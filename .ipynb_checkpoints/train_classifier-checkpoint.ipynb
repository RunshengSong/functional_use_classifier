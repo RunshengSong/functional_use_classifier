{
 "cells": [
  {
   "cell_type": "markdown",
   "metadata": {},
   "source": [
    "# Train the functional use classifier"
   ]
  },
  {
   "cell_type": "code",
   "execution_count": 6,
   "metadata": {
    "collapsed": false
   },
   "outputs": [],
   "source": [
    "import sys\n",
    "sys.path.append(\"./src\") # append to system path\n",
    "\n",
    "import pandas as pd\n",
    "import numpy as np\n",
    "\n",
    "import make_training_data, modeling_tool\n",
    "from sklearn.preprocessing import StandardScaler\n",
    "from sklearn.metrics import classification_report\n",
    "from sklearn.metrics import confusion_matrix\n",
    "import matplotlib.pyplot as plt \n",
    "\n",
    "#static parameters\n",
    "BATCH_SIZE = 1\n",
    "RUGULARIZATION = 0.\n"
   ]
  },
  {
   "cell_type": "markdown",
   "metadata": {},
   "source": [
    "# Dealing with data here"
   ]
  },
  {
   "cell_type": "code",
   "execution_count": 7,
   "metadata": {
    "collapsed": false
   },
   "outputs": [
    {
     "ename": "NameError",
     "evalue": "name 'pd' is not defined",
     "output_type": "error",
     "traceback": [
      "\u001b[0;31m---------------------------------------------------------------------------\u001b[0m",
      "\u001b[0;31mNameError\u001b[0m                                 Traceback (most recent call last)",
      "\u001b[0;32m<ipython-input-7-c4598a7b8b05>\u001b[0m in \u001b[0;36m<module>\u001b[0;34m()\u001b[0m\n\u001b[1;32m      1\u001b[0m \u001b[0;31m# load data\u001b[0m\u001b[0;34m\u001b[0m\u001b[0;34m\u001b[0m\u001b[0m\n\u001b[0;32m----> 2\u001b[0;31m \u001b[0mdf\u001b[0m \u001b[0;34m=\u001b[0m \u001b[0mpd\u001b[0m\u001b[0;34m.\u001b[0m\u001b[0mread_csv\u001b[0m\u001b[0;34m(\u001b[0m\u001b[0;34m'../data/0109_nine_functional_use_descs.csv'\u001b[0m\u001b[0;34m,\u001b[0m\u001b[0mheader\u001b[0m\u001b[0;34m=\u001b[0m\u001b[0;36m0\u001b[0m\u001b[0;34m)\u001b[0m\u001b[0;34m\u001b[0m\u001b[0m\n\u001b[0m\u001b[1;32m      3\u001b[0m \u001b[0;34m\u001b[0m\u001b[0m\n\u001b[1;32m      4\u001b[0m \u001b[0;34m\u001b[0m\u001b[0m\n\u001b[1;32m      5\u001b[0m \u001b[0;31m# sample and split data\u001b[0m\u001b[0;34m\u001b[0m\u001b[0;34m\u001b[0m\u001b[0m\n",
      "\u001b[0;31mNameError\u001b[0m: name 'pd' is not defined"
     ]
    }
   ],
   "source": [
    "# load data\n",
    "df = pd.read_csv('../data/0109_nine_functional_use_descs.csv',header=0)\n",
    "\n",
    "\n",
    "# sample and split data\n",
    "this_data = data_sampler()\n",
    "this_data.sample_data(df, num_test_left=50)\n",
    "\n",
    "trn_X_raw = this_data.trn_data['descs']\n",
    "\n",
    "# add bias here\n",
    "N,M = trn_X_raw.shape\n",
    "trn_X = np.ones((N, M+1))\n",
    "trn_X[:, 1:] = trn_X_raw\n",
    "trn_Y = this_data.trn_data['target']\n",
    "\n",
    "tst_X_raw = this_data.tst_data['descs']\n",
    "N_tst, M_tst = tst_X_raw.shape\n",
    "tst_X = np.ones((N_tst, M_tst+1))\n",
    "tst_X[:, 1:] = tst_X_raw\n",
    "tst_Y = this_data.tst_data['target']\n",
    "target_names = np.unique(this_data.trn_data['class'])\n",
    "\n",
    "from collections import Counter\n",
    "print Counter(this_data.trn_data['class'])\n",
    "print Counter(this_data.tst_data['class'])\n",
    "raw_input()"
   ]
  },
  {
   "cell_type": "markdown",
   "metadata": {},
   "source": [
    "# Initilize the training process"
   ]
  },
  {
   "cell_type": "code",
   "execution_count": null,
   "metadata": {
    "collapsed": true
   },
   "outputs": [],
   "source": [
    "this_classifier = create_functional_use_classifier('../net/tensorflow_classifier_Jan12.model')\n",
    "trn_X, tst_X, vec = this_classifier.fit_scaler(StandardScaler(),trn_X, tst_X)\n",
    "\n",
    "# training\n",
    "this_classifier.train(trn_X,trn_Y,tst_X,tst_Y, num_epoch=700, num_neroun=128,learning_rate=0.01)\n",
    "\n",
    "# print out the training results\n",
    "print classification_report(np.argmax(tst_Y,axis=1), this_classifier.predict(tst_X),target_names=target_names)\n",
    "print confusion_matrix(np.argmax(tst_Y,axis=1), this_classifier.predict(tst_X))\n",
    "\n"
   ]
  },
  {
   "cell_type": "markdown",
   "metadata": {},
   "source": [
    "# Save the Model"
   ]
  },
  {
   "cell_type": "code",
   "execution_count": null,
   "metadata": {
    "collapsed": true
   },
   "outputs": [],
   "source": [
    "this_classifier.save_model('../net/tensorflow_classifier_Jan12.json')"
   ]
  }
 ],
 "metadata": {
  "anaconda-cloud": {},
  "kernelspec": {
   "display_name": "Python [conda env:tensorflow]",
   "language": "python",
   "name": "conda-env-tensorflow-py"
  },
  "language_info": {
   "codemirror_mode": {
    "name": "ipython",
    "version": 2
   },
   "file_extension": ".py",
   "mimetype": "text/x-python",
   "name": "python",
   "nbconvert_exporter": "python",
   "pygments_lexer": "ipython2",
   "version": "2.7.13"
  }
 },
 "nbformat": 4,
 "nbformat_minor": 1
}
