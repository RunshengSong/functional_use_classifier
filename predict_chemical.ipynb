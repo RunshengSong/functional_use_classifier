{
 "cells": [
  {
   "cell_type": "markdown",
   "metadata": {},
   "source": [
    "## Load chemical descriptor and run the classifier"
   ]
  },
  {
   "cell_type": "code",
   "execution_count": 4,
   "metadata": {
    "collapsed": true
   },
   "outputs": [],
   "source": [
    "import sys\n",
    "sys.path.append(\"./src\") # append to system path\n",
    "\n",
    "import json\n",
    "import pandas as pd\n",
    "import numpy as np\n",
    "\n",
    "import modeling_tool as mt\n",
    "from make_training_data import data_sampler\n",
    "from sklearn.preprocessing import StandardScaler\n",
    "from sklearn.metrics import classification_report\n",
    "from sklearn.metrics import confusion_matrix\n",
    "from sklearn.externals import joblib\n",
    "import matplotlib.pyplot as plt "
   ]
  },
  {
   "cell_type": "code",
   "execution_count": 11,
   "metadata": {
    "collapsed": true
   },
   "outputs": [],
   "source": [
    "# use training data as an example\n",
    "df = pd.read_csv('./data/0109_nine_functional_use_descs.csv',header=0)\n",
    "\n",
    "this_data = data_sampler()\n",
    "this_data.sample_data(df, num_test_left=50)\n",
    "\n",
    "tst_X_raw = this_data.tst_data['descs'] #only the first\n",
    "N_tst, M_tst = tst_X_raw.shape\n",
    "tst_X = np.ones((N_tst, M_tst+1))\n",
    "tst_X[:, 1:] = tst_X_raw\n",
    "tst_Y = this_data.tst_data['target']"
   ]
  },
  {
   "cell_type": "markdown",
   "metadata": {},
   "source": [
    "## fit the test data"
   ]
  },
  {
   "cell_type": "code",
   "execution_count": 12,
   "metadata": {
    "collapsed": false
   },
   "outputs": [
    {
     "name": "stdout",
     "output_type": "stream",
     "text": [
      "rebuild\n",
      "0.902222222222\n"
     ]
    }
   ],
   "source": [
    "scaler = joblib.load('./net/tensorflow_classifier_Jan12_scaler.pkl')\n",
    "tst_X = scaler.transform(tst_X)\n",
    "\n",
    "another_classifier = mt.create_functional_use_classifier.load_model('./net/tensorflow_classifier_Jan12.json')\n",
    "thispred = another_classifier.predict(tst_X)\n",
    "\n",
    "acc_tst = np.mean(np.argmax(tst_Y,axis=1) == thispred)\n",
    "print acc_tst"
   ]
  },
  {
   "cell_type": "code",
   "execution_count": null,
   "metadata": {
    "collapsed": true
   },
   "outputs": [],
   "source": []
  }
 ],
 "metadata": {
  "kernelspec": {
   "display_name": "Python [conda env:tensorflow]",
   "language": "python",
   "name": "conda-env-tensorflow-py"
  },
  "language_info": {
   "codemirror_mode": {
    "name": "ipython",
    "version": 2
   },
   "file_extension": ".py",
   "mimetype": "text/x-python",
   "name": "python",
   "nbconvert_exporter": "python",
   "pygments_lexer": "ipython2",
   "version": "2.7.13"
  }
 },
 "nbformat": 4,
 "nbformat_minor": 1
}
